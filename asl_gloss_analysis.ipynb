{
  "nbformat": 4,
  "nbformat_minor": 0,
  "metadata": {
    "colab": {
      "name": "ASL gloss analysis.ipynb",
      "version": "0.3.2",
      "provenance": []
    },
    "kernelspec": {
      "name": "python3",
      "display_name": "Python 3"
    }
  },
  "cells": [
    {
      "cell_type": "code",
      "metadata": {
        "id": "a7N5gu15T3pA",
        "colab_type": "code",
        "colab": {
          "base_uri": "https://localhost:8080/",
          "height": 85
        },
        "outputId": "557ec850-c284-4a66-f0b1-5c38d20845bf"
      },
      "source": [
        "!git clone https://github.com/imatge-upc/speech2signs-2017-nmt.git"
      ],
      "execution_count": 1,
      "outputs": [
        {
          "output_type": "stream",
          "text": [
            "Cloning into 'speech2signs-2017-nmt'...\n",
            "remote: Enumerating objects: 57, done.\u001b[K\n",
            "remote: Total 57 (delta 0), reused 0 (delta 0), pack-reused 57\u001b[K\n",
            "Unpacking objects: 100% (57/57), done.\n"
          ],
          "name": "stdout"
        }
      ]
    },
    {
      "cell_type": "code",
      "metadata": {
        "id": "IgfRq63JT8gP",
        "colab_type": "code",
        "colab": {
          "base_uri": "https://localhost:8080/",
          "height": 204
        },
        "outputId": "4ed5d68b-7828-489a-f625-d3e5676996e0"
      },
      "source": [
        "!wget http://www.bu.edu/asllrp/dai-asllvd-BU_glossing_with_variations_HS_information-extended-urls-RU.xlsx"
      ],
      "execution_count": 4,
      "outputs": [
        {
          "output_type": "stream",
          "text": [
            "--2019-09-13 20:29:34--  http://www.bu.edu/asllrp/dai-asllvd-BU_glossing_with_variations_HS_information-extended-urls-RU.xlsx\n",
            "Resolving www.bu.edu (www.bu.edu)... 13.32.83.125, 13.32.83.72, 13.32.83.63, ...\n",
            "Connecting to www.bu.edu (www.bu.edu)|13.32.83.125|:80... connected.\n",
            "HTTP request sent, awaiting response... 200 OK\n",
            "Length: 1524218 (1.5M) [application/vnd.openxmlformats-officedocument.spreadsheetml.sheet]\n",
            "Saving to: ‘dai-asllvd-BU_glossing_with_variations_HS_information-extended-urls-RU.xlsx’\n",
            "\n",
            "dai-asllvd-BU_gloss 100%[===================>]   1.45M  1.24MB/s    in 1.2s    \n",
            "\n",
            "2019-09-13 20:29:36 (1.24 MB/s) - ‘dai-asllvd-BU_glossing_with_variations_HS_information-extended-urls-RU.xlsx’ saved [1524218/1524218]\n",
            "\n"
          ],
          "name": "stdout"
        }
      ]
    },
    {
      "cell_type": "code",
      "metadata": {
        "id": "_BacUVAyUF13",
        "colab_type": "code",
        "colab": {
          "base_uri": "https://localhost:8080/",
          "height": 68
        },
        "outputId": "e0bc7887-7698-4e09-b9f5-1e7a9851f135"
      },
      "source": [
        "!ls"
      ],
      "execution_count": 5,
      "outputs": [
        {
          "output_type": "stream",
          "text": [
            "dai-asllvd-BU_glossing_with_variations_HS_information-extended-urls-RU.xlsx\n",
            "sample_data\n",
            "speech2signs-2017-nmt\n"
          ],
          "name": "stdout"
        }
      ]
    },
    {
      "cell_type": "code",
      "metadata": {
        "id": "S_rf-AndUHYc",
        "colab_type": "code",
        "colab": {}
      },
      "source": [
        "import pandas as pd"
      ],
      "execution_count": 0,
      "outputs": []
    },
    {
      "cell_type": "code",
      "metadata": {
        "id": "rvnnQymaUiLX",
        "colab_type": "code",
        "colab": {}
      },
      "source": [
        "glosses_data = pd.read_excel(\"dai-asllvd-BU_glossing_with_variations_HS_information-extended-urls-RU.xlsx\")"
      ],
      "execution_count": 0,
      "outputs": []
    },
    {
      "cell_type": "code",
      "metadata": {
        "id": "tqDsiLx5Umhn",
        "colab_type": "code",
        "colab": {}
      },
      "source": [
        "removed = ['============', False]\n",
        "glosses = glosses_data[\"Main New Gloss.1\"].dropna().unique()\n",
        "glosses = [gloss for gloss in glosses if gloss not in removed]"
      ],
      "execution_count": 0,
      "outputs": []
    },
    {
      "cell_type": "code",
      "metadata": {
        "id": "Fe17B-4qUp6_",
        "colab_type": "code",
        "colab": {
          "base_uri": "https://localhost:8080/",
          "height": 34
        },
        "outputId": "58b20ab1-1f57-4cc1-9e74-805130537498"
      },
      "source": [
        "len(glosses)"
      ],
      "execution_count": 107,
      "outputs": [
        {
          "output_type": "execute_result",
          "data": {
            "text/plain": [
              "2746"
            ]
          },
          "metadata": {
            "tags": []
          },
          "execution_count": 107
        }
      ]
    },
    {
      "cell_type": "code",
      "metadata": {
        "id": "jm8iLJbkldeG",
        "colab_type": "code",
        "colab": {}
      },
      "source": [
        "with open(\"speech2signs-2017-nmt/ASLG-PC12/ENG-ASL_Train_0.046.asl\") as file_obj:\n",
        "  lines = file_obj.read()\n",
        "# WOULD LIKE -> WANT\n",
        "removed_words = [\".\", \",\", \"?\", \"BE\", \"TO\"]\n",
        "replacement_mapping = {\n",
        "    \"X-I\": \"IX-1p\",\n",
        "    \"X-IT\": \"IX:i\",\n",
        "    \"X-HE\": \"IX:i\",\n",
        "    \"THIS\": \"IX:i\",\n",
        "    \"WILL\": \"FUTURE\",\n",
        "    \"DESC-NOT\": \"NOT\"\n",
        "}\n",
        "\n",
        "words = lines.split()\n",
        "words = [word for word in words if word not in removed_words]\n",
        "words = [word if word not in replacement_mapping else replacement_mapping[word] for word in words]"
      ],
      "execution_count": 0,
      "outputs": []
    },
    {
      "cell_type": "code",
      "metadata": {
        "id": "6jbPtDGNdA8u",
        "colab_type": "code",
        "colab": {}
      },
      "source": [
        "word_count = {}\n",
        "for word in words:\n",
        "  if word in word_count:\n",
        "    word_count[word] += 1\n",
        "  else:\n",
        "    word_count[word] = 1"
      ],
      "execution_count": 0,
      "outputs": []
    },
    {
      "cell_type": "code",
      "metadata": {
        "id": "gDk_x_TldUj1",
        "colab_type": "code",
        "colab": {
          "base_uri": "https://localhost:8080/",
          "height": 51
        },
        "outputId": "bd819305-737b-49b6-b6a1-32e8573ebcae"
      },
      "source": [
        "glosses_set = set(glosses)\n",
        "sorted_word_count = sorted(word_count.items(), key=lambda x: x[1], reverse=True)\n",
        "\n",
        "distinct_words = len(sorted_word_count)\n",
        "total_words = len(words)\n",
        "word_overlap = [count for word, count in word_count.items() if word in glosses_set]\n",
        "distinct_word_overlap = len(word_overlap)\n",
        "total_word_overlap = sum(word_overlap)\n",
        "\n",
        "print(\"Vocabulary coverage in ASLG-PC12: {}\".format(distinct_word_overlap / distinct_words))\n",
        "print(\"Word coverage in ASLG-PC12: {}\".format(total_word_overlap / total_words))"
      ],
      "execution_count": 130,
      "outputs": [
        {
          "output_type": "stream",
          "text": [
            "Vocabulary coverage in ASLG-PC12: 0.06416166719292705\n",
            "Word coverage in ASLG-PC12: 0.43827769822180823\n"
          ],
          "name": "stdout"
        }
      ]
    },
    {
      "cell_type": "code",
      "metadata": {
        "id": "Iex-iyg1f2LW",
        "colab_type": "code",
        "colab": {
          "base_uri": "https://localhost:8080/",
          "height": 765
        },
        "outputId": "c88858d3-b88d-4eb6-99b1-9d520715dd89"
      },
      "source": [
        "[(word, count) for word, count in sorted_word_count[:100] if word not in glosses_set]"
      ],
      "execution_count": 131,
      "outputs": [
        {
          "output_type": "execute_result",
          "data": {
            "text/plain": [
              "[('X-WE', 21806),\n",
              " ('EUROPEAN', 5941),\n",
              " ('X-YOU', 5820),\n",
              " ('X-Y', 4845),\n",
              " ('AS', 4280),\n",
              " ('DESC-ALSO', 4163),\n",
              " ('MR', 3619),\n",
              " ('BY', 3552),\n",
              " ('DESC-RE', 3512),\n",
              " ('NEED', 3507),\n",
              " ('WOULD', 3505),\n",
              " ('AT', 3384),\n",
              " ('SE', 3015),\n",
              " ('X-POSS', 2949),\n",
              " ('DESC-VERY', 2772),\n",
              " ('COMMISSION', 2700),\n",
              " ('EU', 2508),\n",
              " ('EUROPE', 2434),\n",
              " ('DESC-IMPORTANT', 2266),\n",
              " ('DESC-HOWEVER', 2210),\n",
              " ('UNION', 2175),\n",
              " ('DESC-REFORE', 2015),\n",
              " ('DEBATE', 1804),\n",
              " ('X-MY', 1800),\n",
              " ('DESC-NOW', 1789),\n",
              " ('NO', 1769),\n",
              " ('X-ITS', 1751),\n",
              " ('DESC-SO', 1624),\n",
              " ('ISSUE', 1589),\n",
              " ('DESC-OR', 1526),\n",
              " ('COUNCIL', 1514),\n",
              " ('THANK', 1510),\n",
              " ('DESC-ONLY', 1508),\n",
              " ('DESC-NEW', 1480),\n",
              " ('CRISIS', 1380),\n",
              " ('OR', 1307),\n",
              " ('DESC-ECONOMIC', 1243),\n",
              " ('DESC-MANY', 1235),\n",
              " ('POINT', 1233),\n",
              " ('AGREEMENT', 1222),\n",
              " ('RIGHTS', 1165),\n",
              " ('AREA', 1153),\n",
              " ('TODAY', 1143),\n",
              " ('DESC-UP', 1102)]"
            ]
          },
          "metadata": {
            "tags": []
          },
          "execution_count": 131
        }
      ]
    },
    {
      "cell_type": "code",
      "metadata": {
        "id": "8gP5abl4nRVY",
        "colab_type": "code",
        "colab": {}
      },
      "source": [
        "new_glosses = glosses_data[\"Main New Gloss.1\"].unique()"
      ],
      "execution_count": 0,
      "outputs": []
    },
    {
      "cell_type": "code",
      "metadata": {
        "id": "AdM8iekYzOQI",
        "colab_type": "code",
        "colab": {
          "base_uri": "https://localhost:8080/",
          "height": 272
        },
        "outputId": "51764f7c-5f5a-4f18-b755-26b62d6fde5b"
      },
      "source": [
        "removed = ['============', False]\n",
        "new_glosses = [gloss for gloss in new_glosses if gloss not in removed]\n",
        "for gloss in new_glosses:\n",
        "  if \"NOT\" in gloss:\n",
        "    print(gloss)"
      ],
      "execution_count": 123,
      "outputs": [
        {
          "output_type": "stream",
          "text": [
            "CANNOT\n",
            "NOT-CARE\n",
            "NOT-MIND\n",
            "ANYWAY/NOT-MATTER\n",
            "TAKE-NOTES\n",
            "(1h)NONE/NOTHING\n",
            "NOTHING\n",
            "NOTHING-AT-ALL\n",
            "NOT\n",
            "NOTICE\n",
            "NOT-MY-PROBLEM\n",
            "KNOW-NOTHING\n",
            "NOT-YET\n",
            "FEEL+NONE/NOTHING\n",
            "NOT+SATISFIED\n"
          ],
          "name": "stdout"
        }
      ]
    },
    {
      "cell_type": "code",
      "metadata": {
        "id": "Cr0YThLvJAU8",
        "colab_type": "code",
        "colab": {}
      },
      "source": [
        ""
      ],
      "execution_count": 0,
      "outputs": []
    }
  ]
}