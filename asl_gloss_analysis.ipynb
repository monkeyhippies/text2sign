{
  "nbformat": 4,
  "nbformat_minor": 0,
  "metadata": {
    "colab": {
      "name": "asl_gloss_analysis.ipynb",
      "version": "0.3.2",
      "provenance": []
    },
    "kernelspec": {
      "name": "python3",
      "display_name": "Python 3"
    }
  },
  "cells": [
    {
      "cell_type": "code",
      "metadata": {
        "id": "a7N5gu15T3pA",
        "colab_type": "code",
        "outputId": "74eaa7e4-3257-4bf5-b418-693ea88d6c09",
        "colab": {
          "base_uri": "https://localhost:8080/",
          "height": 85
        }
      },
      "source": [
        "!git clone https://github.com/imatge-upc/speech2signs-2017-nmt.git"
      ],
      "execution_count": 1,
      "outputs": [
        {
          "output_type": "stream",
          "text": [
            "Cloning into 'speech2signs-2017-nmt'...\n",
            "remote: Enumerating objects: 57, done.\u001b[K\n",
            "remote: Total 57 (delta 0), reused 0 (delta 0), pack-reused 57\u001b[K\n",
            "Unpacking objects: 100% (57/57), done.\n"
          ],
          "name": "stdout"
        }
      ]
    },
    {
      "cell_type": "code",
      "metadata": {
        "id": "IgfRq63JT8gP",
        "colab_type": "code",
        "outputId": "f274cb76-01e1-4a92-f111-8e38c834ebe3",
        "colab": {
          "base_uri": "https://localhost:8080/",
          "height": 204
        }
      },
      "source": [
        "!wget http://www.bu.edu/asllrp/dai-asllvd-BU_glossing_with_variations_HS_information-extended-urls-RU.xlsx"
      ],
      "execution_count": 2,
      "outputs": [
        {
          "output_type": "stream",
          "text": [
            "--2019-09-15 05:12:45--  http://www.bu.edu/asllrp/dai-asllvd-BU_glossing_with_variations_HS_information-extended-urls-RU.xlsx\n",
            "Resolving www.bu.edu (www.bu.edu)... 13.249.134.39, 13.249.134.77, 13.249.134.47, ...\n",
            "Connecting to www.bu.edu (www.bu.edu)|13.249.134.39|:80... connected.\n",
            "HTTP request sent, awaiting response... 200 OK\n",
            "Length: 1524218 (1.5M) [application/vnd.openxmlformats-officedocument.spreadsheetml.sheet]\n",
            "Saving to: ‘dai-asllvd-BU_glossing_with_variations_HS_information-extended-urls-RU.xlsx’\n",
            "\n",
            "dai-asllvd-BU_gloss 100%[===================>]   1.45M  1.24MB/s    in 1.2s    \n",
            "\n",
            "2019-09-15 05:12:46 (1.24 MB/s) - ‘dai-asllvd-BU_glossing_with_variations_HS_information-extended-urls-RU.xlsx’ saved [1524218/1524218]\n",
            "\n"
          ],
          "name": "stdout"
        }
      ]
    },
    {
      "cell_type": "code",
      "metadata": {
        "id": "_BacUVAyUF13",
        "colab_type": "code",
        "outputId": "69f21f39-fb26-41fc-cbf0-7908e601938c",
        "colab": {
          "base_uri": "https://localhost:8080/",
          "height": 68
        }
      },
      "source": [
        "!ls"
      ],
      "execution_count": 3,
      "outputs": [
        {
          "output_type": "stream",
          "text": [
            "dai-asllvd-BU_glossing_with_variations_HS_information-extended-urls-RU.xlsx\n",
            "sample_data\n",
            "speech2signs-2017-nmt\n"
          ],
          "name": "stdout"
        }
      ]
    },
    {
      "cell_type": "code",
      "metadata": {
        "id": "S_rf-AndUHYc",
        "colab_type": "code",
        "colab": {}
      },
      "source": [
        "import pandas as pd\n",
        "import numpy as np"
      ],
      "execution_count": 0,
      "outputs": []
    },
    {
      "cell_type": "code",
      "metadata": {
        "id": "6cAuzj9vbWHG",
        "colab_type": "code",
        "colab": {
          "base_uri": "https://localhost:8080/",
          "height": 241
        },
        "outputId": "0a8bc909-66be-4e8a-bd2e-5ae4867350ad"
      },
      "source": [
        "glosses_data.head()"
      ],
      "execution_count": 21,
      "outputs": [
        {
          "output_type": "execute_result",
          "data": {
            "text/html": [
              "<div>\n",
              "<style scoped>\n",
              "    .dataframe tbody tr th:only-of-type {\n",
              "        vertical-align: middle;\n",
              "    }\n",
              "\n",
              "    .dataframe tbody tr th {\n",
              "        vertical-align: top;\n",
              "    }\n",
              "\n",
              "    .dataframe thead th {\n",
              "        text-align: right;\n",
              "    }\n",
              "</style>\n",
              "<table border=\"1\" class=\"dataframe\">\n",
              "  <thead>\n",
              "    <tr style=\"text-align: right;\">\n",
              "      <th></th>\n",
              "      <th>Unnamed: 0</th>\n",
              "      <th>Main New Gloss</th>\n",
              "      <th>Consultant</th>\n",
              "      <th>Main New Gloss.1</th>\n",
              "      <th>Gloss Variant</th>\n",
              "      <th>D Start HS</th>\n",
              "      <th>N-D Start HS</th>\n",
              "      <th>D End HS</th>\n",
              "      <th>N-D End HS</th>\n",
              "      <th>Passive Arm</th>\n",
              "      <th>Combined</th>\n",
              "      <th>Separate</th>\n",
              "      <th>Session</th>\n",
              "      <th>Scene</th>\n",
              "      <th>Start</th>\n",
              "      <th>End</th>\n",
              "      <th>Combined.1</th>\n",
              "      <th>Separate.1</th>\n",
              "    </tr>\n",
              "  </thead>\n",
              "  <tbody>\n",
              "    <tr>\n",
              "      <th>0</th>\n",
              "      <td>NaN</td>\n",
              "      <td>============</td>\n",
              "      <td>============</td>\n",
              "      <td>============</td>\n",
              "      <td>============</td>\n",
              "      <td>============</td>\n",
              "      <td>============</td>\n",
              "      <td>============</td>\n",
              "      <td>============</td>\n",
              "      <td>============</td>\n",
              "      <td>============</td>\n",
              "      <td>============</td>\n",
              "      <td>============</td>\n",
              "      <td>============</td>\n",
              "      <td>============</td>\n",
              "      <td>============</td>\n",
              "      <td>============</td>\n",
              "      <td>============</td>\n",
              "    </tr>\n",
              "    <tr>\n",
              "      <th>1</th>\n",
              "      <td>NaN</td>\n",
              "      <td>TWENTY</td>\n",
              "      <td>============</td>\n",
              "      <td>============</td>\n",
              "      <td>============</td>\n",
              "      <td>============</td>\n",
              "      <td>============</td>\n",
              "      <td>============</td>\n",
              "      <td>============</td>\n",
              "      <td>============</td>\n",
              "      <td>============</td>\n",
              "      <td>============</td>\n",
              "      <td>============</td>\n",
              "      <td>============</td>\n",
              "      <td>============</td>\n",
              "      <td>============</td>\n",
              "      <td>============</td>\n",
              "      <td>============</td>\n",
              "    </tr>\n",
              "    <tr>\n",
              "      <th>2</th>\n",
              "      <td>NaN</td>\n",
              "      <td>NaN</td>\n",
              "      <td>Liz</td>\n",
              "      <td>TWENTY</td>\n",
              "      <td>TWENTY+</td>\n",
              "      <td>crvd-L</td>\n",
              "      <td>NaN</td>\n",
              "      <td>flat-G</td>\n",
              "      <td>NaN</td>\n",
              "      <td>N</td>\n",
              "      <td>NaN</td>\n",
              "      <td>MOV</td>\n",
              "      <td>ASL_2008_01_11</td>\n",
              "      <td>2</td>\n",
              "      <td>2635</td>\n",
              "      <td>2661</td>\n",
              "      <td>NaN</td>\n",
              "      <td>MOV</td>\n",
              "    </tr>\n",
              "    <tr>\n",
              "      <th>3</th>\n",
              "      <td>NaN</td>\n",
              "      <td>NaN</td>\n",
              "      <td>Tyler</td>\n",
              "      <td>TWENTY</td>\n",
              "      <td>TWENTY++</td>\n",
              "      <td>L</td>\n",
              "      <td>NaN</td>\n",
              "      <td>flat-G</td>\n",
              "      <td>NaN</td>\n",
              "      <td>N</td>\n",
              "      <td>MOV</td>\n",
              "      <td>MOV</td>\n",
              "      <td>ASL_2008_05_12a</td>\n",
              "      <td>1</td>\n",
              "      <td>2400</td>\n",
              "      <td>2480</td>\n",
              "      <td>MOV</td>\n",
              "      <td>MOV</td>\n",
              "    </tr>\n",
              "    <tr>\n",
              "      <th>4</th>\n",
              "      <td>NaN</td>\n",
              "      <td>NaN</td>\n",
              "      <td>Naomi</td>\n",
              "      <td>TWENTY</td>\n",
              "      <td>TWENTY+</td>\n",
              "      <td>L</td>\n",
              "      <td>NaN</td>\n",
              "      <td>baby-O</td>\n",
              "      <td>NaN</td>\n",
              "      <td>N</td>\n",
              "      <td>NaN</td>\n",
              "      <td>MOV</td>\n",
              "      <td>ASL_2008_08_04</td>\n",
              "      <td>1</td>\n",
              "      <td>2279</td>\n",
              "      <td>2353</td>\n",
              "      <td>NaN</td>\n",
              "      <td>MOV</td>\n",
              "    </tr>\n",
              "  </tbody>\n",
              "</table>\n",
              "</div>"
            ],
            "text/plain": [
              "   Unnamed: 0 Main New Gloss  ...    Combined.1    Separate.1\n",
              "0         NaN   ============  ...  ============  ============\n",
              "1         NaN         TWENTY  ...  ============  ============\n",
              "2         NaN            NaN  ...           NaN           MOV\n",
              "3         NaN            NaN  ...           MOV           MOV\n",
              "4         NaN            NaN  ...           NaN           MOV\n",
              "\n",
              "[5 rows x 18 columns]"
            ]
          },
          "metadata": {
            "tags": []
          },
          "execution_count": 21
        }
      ]
    },
    {
      "cell_type": "code",
      "metadata": {
        "id": "rvnnQymaUiLX",
        "colab_type": "code",
        "colab": {}
      },
      "source": [
        "glosses_data = pd.read_excel(\"dai-asllvd-BU_glossing_with_variations_HS_information-extended-urls-RU.xlsx\")"
      ],
      "execution_count": 0,
      "outputs": []
    },
    {
      "cell_type": "code",
      "metadata": {
        "id": "tqDsiLx5Umhn",
        "colab_type": "code",
        "colab": {}
      },
      "source": [
        "removed = ['============', False]\n",
        "glosses = glosses_data[\"Gloss Variant\"].dropna().unique()\n",
        "glosses = [gloss for gloss in glosses if gloss not in removed]\n",
        "glosses = [gloss.rstrip(\"+\") for gloss in glosses]"
      ],
      "execution_count": 0,
      "outputs": []
    },
    {
      "cell_type": "code",
      "metadata": {
        "id": "Fe17B-4qUp6_",
        "colab_type": "code",
        "outputId": "f2bbb50d-76ad-4c88-b32a-638f87f087fb",
        "colab": {
          "base_uri": "https://localhost:8080/",
          "height": 34
        }
      },
      "source": [
        "len(glosses)"
      ],
      "execution_count": 52,
      "outputs": [
        {
          "output_type": "execute_result",
          "data": {
            "text/plain": [
              "4164"
            ]
          },
          "metadata": {
            "tags": []
          },
          "execution_count": 52
        }
      ]
    },
    {
      "cell_type": "code",
      "metadata": {
        "id": "jm8iLJbkldeG",
        "colab_type": "code",
        "colab": {}
      },
      "source": [
        "with open(\"speech2signs-2017-nmt/ASLG-PC12/ENG-ASL_Train_0.046.asl\") as file_obj:\n",
        "  separated_lines = file_obj.readlines()\n",
        "  lines = \"\".join(separated_lines)\n",
        "  separated_lines = [line.split() for line in separated_lines]\n",
        "# WOULD LIKE -> WANT\n",
        "removed_words = [\".\", \",\", \"?\", \"BE\", \"TO\", \"MR\"]\n",
        "replacement_mapping = {\n",
        "    \"X-I\": \"IX-1p\",\n",
        "    \"X-WE\": \"IX-1p-pl-arc\",\n",
        "    \"X-IT\": \"IX:i\",\n",
        "    \"X-HE\": \"IX:i\",\n",
        "    \"X-YOU\": \"IX-2p\",\n",
        "    \"X-Y\": \"IX-2p\", # X-Y is you in the general sense so this might not be good\n",
        "    \"THIS\": \"IX:i\",\n",
        "    \"EU\": \"ns-EUROPE\",\n",
        "    \"EUROPE\": \"ns-EUROPE\",\n",
        "    \"EUROPEAN\": \"ns-EUROPE\",# This might not be right to assume\n",
        "    \"WILL\": \"FUTURE\",\n",
        "    \"NEED\": \"SHOULD\",\n",
        "    \"DESC-NOT\": \"NOT\",\n",
        "    \"DESC-ALSO\": \"ALSO\"\n",
        "}\n",
        "\n",
        "# Remopve all DESC- from terms\n",
        "words = lines.split()\n",
        "words = [word for word in words if word not in removed_words]\n",
        "words = [word if word not in replacement_mapping else replacement_mapping[word] for word in words]\n",
        "words = [word if not word.startswith(\"DESC-\") else word[5:] for word in words]"
      ],
      "execution_count": 0,
      "outputs": []
    },
    {
      "cell_type": "code",
      "metadata": {
        "id": "6jbPtDGNdA8u",
        "colab_type": "code",
        "colab": {}
      },
      "source": [
        "word_count = {}\n",
        "for word in words:\n",
        "  if word in word_count:\n",
        "    word_count[word] += 1\n",
        "  else:\n",
        "    word_count[word] = 1"
      ],
      "execution_count": 0,
      "outputs": []
    },
    {
      "cell_type": "code",
      "metadata": {
        "id": "gDk_x_TldUj1",
        "colab_type": "code",
        "outputId": "215b4503-23f6-44ce-c48e-e17231148973",
        "colab": {
          "base_uri": "https://localhost:8080/",
          "height": 51
        }
      },
      "source": [
        "glosses_set = set(glosses)\n",
        "sorted_word_count = sorted(word_count.items(), key=lambda x: x[1], reverse=True)\n",
        "\n",
        "distinct_words = len(sorted_word_count)\n",
        "total_words = len(words)\n",
        "word_overlap = [count for word, count in word_count.items() if word in glosses_set]\n",
        "distinct_word_overlap = len(word_overlap)\n",
        "total_word_overlap = sum(word_overlap)\n",
        "\n",
        "print(\"Vocabulary coverage in ASLG-PC12: {}\".format(distinct_word_overlap / distinct_words))\n",
        "print(\"Word coverage in ASLG-PC12: {}\".format(total_word_overlap / total_words))"
      ],
      "execution_count": 89,
      "outputs": [
        {
          "output_type": "stream",
          "text": [
            "Vocabulary coverage in ASLG-PC12: 0.07809234277028311\n",
            "Word coverage in ASLG-PC12: 0.5590735139884557\n"
          ],
          "name": "stdout"
        }
      ]
    },
    {
      "cell_type": "code",
      "metadata": {
        "id": "Iex-iyg1f2LW",
        "colab_type": "code",
        "outputId": "cb204756-a3eb-4b6f-c023-e8b07359e05f",
        "colab": {
          "base_uri": "https://localhost:8080/",
          "height": 527
        }
      },
      "source": [
        "[(word, count) for word, count in sorted_word_count[:100] if word not in glosses_set]"
      ],
      "execution_count": 90,
      "outputs": [
        {
          "output_type": "execute_result",
          "data": {
            "text/plain": [
              "[('AS', 4280),\n",
              " ('RE', 3582),\n",
              " ('BY', 3552),\n",
              " ('WOULD', 3505),\n",
              " ('AT', 3384),\n",
              " ('SE', 3015),\n",
              " ('X-POSS', 2949),\n",
              " ('OR', 2833),\n",
              " ('COMMISSION', 2700),\n",
              " ('HOWEVER', 2210),\n",
              " ('UNION', 2175),\n",
              " ('REFORE', 2015),\n",
              " ('DEBATE', 1804),\n",
              " ('X-MY', 1800),\n",
              " ('NO', 1769),\n",
              " ('X-ITS', 1751),\n",
              " ('SO', 1625),\n",
              " ('ISSUE', 1589),\n",
              " ('COUNCIL', 1514),\n",
              " ('THANK', 1510),\n",
              " ('ONLY', 1508),\n",
              " ('CRISIS', 1380),\n",
              " ('POINT', 1233),\n",
              " ('AGREEMENT', 1222),\n",
              " ('RIGHTS', 1165),\n",
              " ('AREA', 1153),\n",
              " ('TODAY', 1143),\n",
              " ('PROPOSAL', 1091),\n",
              " ('BELIEVE', 1082),\n",
              " ('SUCH', 1041)]"
            ]
          },
          "metadata": {
            "tags": []
          },
          "execution_count": 90
        }
      ]
    },
    {
      "cell_type": "code",
      "metadata": {
        "id": "QjMsssY8V0hd",
        "colab_type": "code",
        "colab": {}
      },
      "source": [
        "for gloss in glosses_set:\n",
        "  if gloss.endswith(\"+\"):\n",
        "    print(gloss)"
      ],
      "execution_count": 0,
      "outputs": []
    },
    {
      "cell_type": "code",
      "metadata": {
        "id": "Smh9Q8ZonoXU",
        "colab_type": "code",
        "colab": {}
      },
      "source": [
        "sentence_coverage = sorted(\n",
        "    [sum(word in glosses_set for word in line) / len(line) for line in separated_lines],\n",
        "    reverse=True\n",
        ")"
      ],
      "execution_count": 0,
      "outputs": []
    },
    {
      "cell_type": "code",
      "metadata": {
        "id": "6kheKh7NnqLE",
        "colab_type": "code",
        "colab": {
          "base_uri": "https://localhost:8080/",
          "height": 170
        },
        "outputId": "cfcc969d-8b95-405a-b11a-79e71b2525ec"
      },
      "source": [
        "pd.Series(sentence_coverage).describe()"
      ],
      "execution_count": 95,
      "outputs": [
        {
          "output_type": "execute_result",
          "data": {
            "text/plain": [
              "count    83619.000000\n",
              "mean         0.317633\n",
              "std          0.165227\n",
              "min          0.000000\n",
              "25%          0.214286\n",
              "50%          0.307692\n",
              "75%          0.400000\n",
              "max          1.000000\n",
              "dtype: float64"
            ]
          },
          "metadata": {
            "tags": []
          },
          "execution_count": 95
        }
      ]
    },
    {
      "cell_type": "code",
      "metadata": {
        "id": "wLmBnSepoy73",
        "colab_type": "code",
        "colab": {
          "base_uri": "https://localhost:8080/",
          "height": 34
        },
        "outputId": "cfa607e5-cdde-4165-ceaa-37af53b2c5e6"
      },
      "source": [
        "sum(cov == 1.0 for cov in sentence_coverage)"
      ],
      "execution_count": 96,
      "outputs": [
        {
          "output_type": "execute_result",
          "data": {
            "text/plain": [
              "914"
            ]
          },
          "metadata": {
            "tags": []
          },
          "execution_count": 96
        }
      ]
    },
    {
      "cell_type": "code",
      "metadata": {
        "id": "v62fg576pjRc",
        "colab_type": "code",
        "colab": {}
      },
      "source": [
        ""
      ],
      "execution_count": 0,
      "outputs": []
    }
  ]
}